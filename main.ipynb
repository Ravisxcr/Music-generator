{
  "cells": [
    {
      "cell_type": "markdown",
      "metadata": {
        "id": "RYiR1hp_rUzK"
      },
      "source": [
        "1. Importing required libraries"
      ]
    },
    {
      "cell_type": "code",
      "execution_count": null,
      "metadata": {
        "id": "RbaDFR8RrUzX"
      },
      "outputs": [],
      "source": [
        "from music21 import converter, instrument, note, chord, stream\n",
        "import glob\n",
        "import pickle\n",
        "import numpy as np\n",
        "from keras.utils import np_utils\n"
      ]
    },
    {
      "cell_type": "code",
      "source": [
        "from google.colab import drive\n",
        "drive.mount('/content/drive')"
      ],
      "metadata": {
        "colab": {
          "base_uri": "https://localhost:8080/"
        },
        "id": "tutwoVI8rnsx",
        "outputId": "3ca1c6ac-6f11-42f3-dec0-15458f6bb2d1"
      },
      "execution_count": null,
      "outputs": [
        {
          "output_type": "stream",
          "name": "stdout",
          "text": [
            "Mounted at /content/drive\n"
          ]
        }
      ]
    },
    {
      "cell_type": "markdown",
      "metadata": {
        "id": "nmzl5KBnrUza"
      },
      "source": [
        "2. Preprocessing the midi files"
      ]
    },
    {
      "cell_type": "code",
      "execution_count": null,
      "metadata": {
        "id": "29KxxsqTrUzb"
      },
      "outputs": [],
      "source": [
        "def preprocessMidi(file_path=\"/content/drive/MyDrive/colab_notebook/Deep_learning/midi_files/*.mid\", disp=True):\n",
        "\n",
        "    arr = []\n",
        "    for file in glob.glob(file_path):\n",
        "        midi = converter.parse(file)\n",
        "\n",
        "        if disp:\n",
        "            print(f\"parsing {file}\")\n",
        "\n",
        "        elements_to_parse = midi.flat.notes\n",
        "\n",
        "\n",
        "        for ele in elements_to_parse:\n",
        "            # Checking Notes and storing in the pitch\n",
        "            if isinstance(ele, note.Note):\n",
        "                arr.append(str(ele.pitch))\n",
        "\n",
        "            # checking chord and storing its each note\n",
        "            elif isinstance(ele, chord.Chord):\n",
        "                arr.append(\"+\".join(str(n) for n in ele.normalOrder))\n",
        "\n",
        "    return arr\n"
      ]
    },
    {
      "cell_type": "code",
      "execution_count": null,
      "metadata": {
        "colab": {
          "base_uri": "https://localhost:8080/"
        },
        "id": "iMghIEhirUzc",
        "outputId": "76ba9234-ed7d-4f15-f8f5-91c35c84183f"
      },
      "outputs": [
        {
          "output_type": "stream",
          "name": "stdout",
          "text": [
            "parsing /content/drive/MyDrive/colab_notebook/Deep_learning/midi_files/Gold_Silver_Rival_Battle.mid\n",
            "parsing /content/drive/MyDrive/colab_notebook/Deep_learning/midi_files/FF8_Shuffle_or_boogie_pc.mid\n",
            "parsing /content/drive/MyDrive/colab_notebook/Deep_learning/midi_files/Fyw_piano.mid\n",
            "parsing /content/drive/MyDrive/colab_notebook/Deep_learning/midi_files/FF4.mid\n",
            "parsing /content/drive/MyDrive/colab_notebook/Deep_learning/midi_files/FFX_-_Ending_Theme_(Piano_Version)_-_by_Angel_FF.mid\n",
            "parsing /content/drive/MyDrive/colab_notebook/Deep_learning/midi_files/Ff4-BattleLust.mid\n",
            "parsing /content/drive/MyDrive/colab_notebook/Deep_learning/midi_files/Fiend_Battle_(Piano).mid\n",
            "parsing /content/drive/MyDrive/colab_notebook/Deep_learning/midi_files/Finalfantasy6fanfarecomplete.mid\n",
            "parsing /content/drive/MyDrive/colab_notebook/Deep_learning/midi_files/FF6epitaph_piano.mid\n",
            "parsing /content/drive/MyDrive/colab_notebook/Deep_learning/midi_files/Kingdom_Hearts_Dearly_Beloved.mid\n",
            "parsing /content/drive/MyDrive/colab_notebook/Deep_learning/midi_files/Cids.mid\n",
            "parsing /content/drive/MyDrive/colab_notebook/Deep_learning/midi_files/8.mid\n",
            "parsing /content/drive/MyDrive/colab_notebook/Deep_learning/midi_files/FFVII_BATTLE.mid\n",
            "parsing /content/drive/MyDrive/colab_notebook/Deep_learning/midi_files/Rydia_pc.mid\n",
            "parsing /content/drive/MyDrive/colab_notebook/Deep_learning/midi_files/OTD5YA.mid\n",
            "parsing /content/drive/MyDrive/colab_notebook/Deep_learning/midi_files/FFIX_Piano.mid\n",
            "parsing /content/drive/MyDrive/colab_notebook/Deep_learning/midi_files/Final_Fantasy_Matouyas_Cave_Piano.mid\n",
            "parsing /content/drive/MyDrive/colab_notebook/Deep_learning/midi_files/Fierce_Battle_(Piano).mid\n",
            "parsing /content/drive/MyDrive/colab_notebook/Deep_learning/midi_files/DOS.mid\n",
            "parsing /content/drive/MyDrive/colab_notebook/Deep_learning/midi_files/FF3_Third_Phase_Final_(Piano).mid\n",
            "parsing /content/drive/MyDrive/colab_notebook/Deep_learning/midi_files/Ff7-Jenova_Absolute.mid\n",
            "parsing /content/drive/MyDrive/colab_notebook/Deep_learning/midi_files/0fithos.mid\n",
            "parsing /content/drive/MyDrive/colab_notebook/Deep_learning/midi_files/Ff7-Cinco.mid\n",
            "parsing /content/drive/MyDrive/colab_notebook/Deep_learning/midi_files/In_Zanarkand.mid\n",
            "parsing /content/drive/MyDrive/colab_notebook/Deep_learning/midi_files/JENOVA.mid\n",
            "parsing /content/drive/MyDrive/colab_notebook/Deep_learning/midi_files/Final_Fantasy_7_-_Judgement_Day_Piano.mid\n",
            "parsing /content/drive/MyDrive/colab_notebook/Deep_learning/midi_files/Oppressed.mid\n",
            "parsing /content/drive/MyDrive/colab_notebook/Deep_learning/midi_files/HighwindTakestotheSkies.mid\n",
            "parsing /content/drive/MyDrive/colab_notebook/Deep_learning/midi_files/Finalfantasy5gilgameshp.mid\n",
            "parsing /content/drive/MyDrive/colab_notebook/Deep_learning/midi_files/FFIII_Edgar_And_Sabin_Piano.mid\n",
            "parsing /content/drive/MyDrive/colab_notebook/Deep_learning/midi_files/Rachel_Piano_tempofix.mid\n",
            "parsing /content/drive/MyDrive/colab_notebook/Deep_learning/midi_files/FFIXQuMarshP.mid\n",
            "parsing /content/drive/MyDrive/colab_notebook/Deep_learning/midi_files/BlueStone_LastDungeon.mid\n",
            "parsing /content/drive/MyDrive/colab_notebook/Deep_learning/midi_files/Eternal_Harvest.mid\n",
            "parsing /content/drive/MyDrive/colab_notebook/Deep_learning/midi_files/Life_Stream.mid\n",
            "parsing /content/drive/MyDrive/colab_notebook/Deep_learning/midi_files/FF3_Battle_(Piano).mid\n",
            "parsing /content/drive/MyDrive/colab_notebook/Deep_learning/midi_files/Ff7-One_Winged.mid\n",
            "parsing /content/drive/MyDrive/colab_notebook/Deep_learning/midi_files/Kingdom_Hearts_Traverse_Town.mid\n",
            "parsing /content/drive/MyDrive/colab_notebook/Deep_learning/midi_files/AT.mid\n",
            "parsing /content/drive/MyDrive/colab_notebook/Deep_learning/midi_files/EyesOnMePiano.mid\n",
            "parsing /content/drive/MyDrive/colab_notebook/Deep_learning/midi_files/waltz_de_choco.mid\n"
          ]
        },
        {
          "output_type": "stream",
          "name": "stderr",
          "text": [
            "/usr/local/lib/python3.10/dist-packages/music21/midi/translate.py:863: TranslateWarning: Unable to determine instrument from <music21.midi.MidiEvent SEQUENCE_TRACK_NAME, track=5, channel=None, data=b'Martin Rosok Copyright \\xa9 1998'>; getting generic Instrument\n",
            "  warnings.warn(\n"
          ]
        },
        {
          "output_type": "stream",
          "name": "stdout",
          "text": [
            "parsing /content/drive/MyDrive/colab_notebook/Deep_learning/midi_files/ff7themep.mid\n",
            "parsing /content/drive/MyDrive/colab_notebook/Deep_learning/midi_files/traitor.mid\n",
            "parsing /content/drive/MyDrive/colab_notebook/Deep_learning/midi_files/thoughts.mid\n",
            "parsing /content/drive/MyDrive/colab_notebook/Deep_learning/midi_files/ff1battp.mid\n",
            "parsing /content/drive/MyDrive/colab_notebook/Deep_learning/midi_files/ahead_on_our_way_piano.mid\n",
            "parsing /content/drive/MyDrive/colab_notebook/Deep_learning/midi_files/Zelda_Overworld.mid\n",
            "parsing /content/drive/MyDrive/colab_notebook/Deep_learning/midi_files/ff4-town.mid\n",
            "parsing /content/drive/MyDrive/colab_notebook/Deep_learning/midi_files/lurk_in_dark.mid\n",
            "parsing /content/drive/MyDrive/colab_notebook/Deep_learning/midi_files/redwings.mid\n",
            "parsing /content/drive/MyDrive/colab_notebook/Deep_learning/midi_files/mining.mid\n",
            "parsing /content/drive/MyDrive/colab_notebook/Deep_learning/midi_files/balamb.mid\n",
            "parsing /content/drive/MyDrive/colab_notebook/Deep_learning/midi_files/bcm.mid\n",
            "parsing /content/drive/MyDrive/colab_notebook/Deep_learning/midi_files/ff4-airship.mid\n",
            "parsing /content/drive/MyDrive/colab_notebook/Deep_learning/midi_files/VincentPiano.mid\n",
            "parsing /content/drive/MyDrive/colab_notebook/Deep_learning/midi_files/ViviinAlexandria.mid\n",
            "parsing /content/drive/MyDrive/colab_notebook/Deep_learning/midi_files/sandy.mid\n",
            "parsing /content/drive/MyDrive/colab_notebook/Deep_learning/midi_files/ff4_piano_collections-main_theme.mid\n",
            "parsing /content/drive/MyDrive/colab_notebook/Deep_learning/midi_files/fortresscondor.mid\n",
            "parsing /content/drive/MyDrive/colab_notebook/Deep_learning/midi_files/gerudo.mid\n",
            "parsing /content/drive/MyDrive/colab_notebook/Deep_learning/midi_files/tpirtsd-piano.mid\n",
            "parsing /content/drive/MyDrive/colab_notebook/Deep_learning/midi_files/thenightmarebegins.mid\n",
            "parsing /content/drive/MyDrive/colab_notebook/Deep_learning/midi_files/cosmo.mid\n",
            "parsing /content/drive/MyDrive/colab_notebook/Deep_learning/midi_files/ff11_awakening_piano.mid\n",
            "parsing /content/drive/MyDrive/colab_notebook/Deep_learning/midi_files/braska.mid\n",
            "parsing /content/drive/MyDrive/colab_notebook/Deep_learning/midi_files/roseofmay-piano.mid\n",
            "parsing /content/drive/MyDrive/colab_notebook/Deep_learning/midi_files/goldsaucer.mid\n",
            "parsing /content/drive/MyDrive/colab_notebook/Deep_learning/midi_files/great_war.mid\n",
            "parsing /content/drive/MyDrive/colab_notebook/Deep_learning/midi_files/ff4pclov.mid\n",
            "parsing /content/drive/MyDrive/colab_notebook/Deep_learning/midi_files/ff8-lfp.mid\n",
            "parsing /content/drive/MyDrive/colab_notebook/Deep_learning/midi_files/z_aeristhemepiano.mid\n",
            "parsing /content/drive/MyDrive/colab_notebook/Deep_learning/midi_files/costadsol.mid\n",
            "parsing /content/drive/MyDrive/colab_notebook/Deep_learning/midi_files/ultimafro.mid\n"
          ]
        },
        {
          "output_type": "stream",
          "name": "stderr",
          "text": [
            "/usr/local/lib/python3.10/dist-packages/music21/midi/translate.py:863: TranslateWarning: Unable to determine instrument from <music21.midi.MidiEvent SEQUENCE_TRACK_NAME, track=6, channel=None, data=b'Pok\\xe9mon: Elite Four (Piano)'>; getting generic Instrument\n",
            "  warnings.warn(\n"
          ]
        },
        {
          "output_type": "stream",
          "name": "stdout",
          "text": [
            "parsing /content/drive/MyDrive/colab_notebook/Deep_learning/midi_files/pkelite4.mid\n",
            "parsing /content/drive/MyDrive/colab_notebook/Deep_learning/midi_files/dontbeafraid.mid\n",
            "parsing /content/drive/MyDrive/colab_notebook/Deep_learning/midi_files/ff4-fight1.mid\n",
            "parsing /content/drive/MyDrive/colab_notebook/Deep_learning/midi_files/relmstheme-piano.mid\n",
            "parsing /content/drive/MyDrive/colab_notebook/Deep_learning/midi_files/ff6shap.mid\n",
            "parsing /content/drive/MyDrive/colab_notebook/Deep_learning/midi_files/Still_Alive-1.mid\n",
            "parsing /content/drive/MyDrive/colab_notebook/Deep_learning/midi_files/tifap.mid\n",
            "parsing /content/drive/MyDrive/colab_notebook/Deep_learning/midi_files/path_of_repentance.mid\n",
            "parsing /content/drive/MyDrive/colab_notebook/Deep_learning/midi_files/ff7-mainmidi.mid\n",
            "parsing /content/drive/MyDrive/colab_notebook/Deep_learning/midi_files/sobf.mid\n",
            "parsing /content/drive/MyDrive/colab_notebook/Deep_learning/midi_files/electric_de_chocobo.mid\n",
            "parsing /content/drive/MyDrive/colab_notebook/Deep_learning/midi_files/figaro.mid\n",
            "parsing /content/drive/MyDrive/colab_notebook/Deep_learning/midi_files/rufus.mid\n",
            "parsing /content/drive/MyDrive/colab_notebook/Deep_learning/midi_files/decisive.mid\n",
            "parsing /content/drive/MyDrive/colab_notebook/Deep_learning/midi_files/Suteki_Da_Ne_(Piano_Version).mid\n",
            "parsing /content/drive/MyDrive/colab_notebook/Deep_learning/midi_files/dayafter.mid\n",
            "parsing /content/drive/MyDrive/colab_notebook/Deep_learning/midi_files/caitsith.mid\n",
            "parsing /content/drive/MyDrive/colab_notebook/Deep_learning/midi_files/ultros.mid\n",
            "parsing /content/drive/MyDrive/colab_notebook/Deep_learning/midi_files/sera_.mid\n"
          ]
        }
      ],
      "source": [
        "noteslis = preprocessMidi()"
      ]
    },
    {
      "cell_type": "markdown",
      "metadata": {
        "id": "iov0Frt1rUze"
      },
      "source": [
        "3. Storing data in external file"
      ]
    },
    {
      "cell_type": "code",
      "execution_count": null,
      "metadata": {
        "id": "ND3IlTCnrUzf"
      },
      "outputs": [],
      "source": [
        "def storeext(notes,filename='/content/drive/MyDrive/colab_notebook/Deep_learning/mididata.bin'):\n",
        "    with open(filename, 'wb') as filepath:\n",
        "        pickle.dump(notes, filepath)"
      ]
    },
    {
      "cell_type": "code",
      "execution_count": null,
      "metadata": {
        "id": "Pxsh9fxqrUzg"
      },
      "outputs": [],
      "source": [
        "storeext(noteslis)"
      ]
    },
    {
      "cell_type": "code",
      "execution_count": null,
      "metadata": {
        "id": "113_h6zErUzh"
      },
      "outputs": [],
      "source": [
        "def loadext(filename):\n",
        "    with open(filename, 'rb') as f:\n",
        "        notes= pickle.load(f)\n",
        "        return notes"
      ]
    },
    {
      "cell_type": "code",
      "execution_count": null,
      "metadata": {
        "colab": {
          "base_uri": "https://localhost:8080/"
        },
        "id": "hNpiCIDXrUzi",
        "outputId": "c80e94f3-2e50-4f81-9cbc-d647aaeaa274"
      },
      "outputs": [
        {
          "output_type": "stream",
          "name": "stdout",
          "text": [
            "length of data : 60764\n",
            "Uniques characters : 398\n"
          ]
        }
      ],
      "source": [
        "notesdata = loadext('/content/drive/MyDrive/colab_notebook/Deep_learning/mididata.bin')\n",
        "print(f\"length of data : {len(notesdata)}\")\n",
        "print(f\"Uniques characters : {len(set(notesdata))}\")"
      ]
    },
    {
      "cell_type": "markdown",
      "metadata": {
        "id": "JgRYUzahrUzj"
      },
      "source": [
        "4. Develpoing model"
      ]
    },
    {
      "cell_type": "code",
      "execution_count": null,
      "metadata": {
        "id": "Y2AO5pUJrUzk"
      },
      "outputs": [],
      "source": [
        "from keras.models import Sequential, load_model\n",
        "from keras.layers import LSTM, Dropout, Dense\n",
        "from keras.callbacks import ModelCheckpoint, EarlyStopping\n",
        "from tensorflow import data"
      ]
    },
    {
      "cell_type": "code",
      "execution_count": null,
      "metadata": {
        "id": "hsCIwqpNrUzl"
      },
      "outputs": [],
      "source": [
        "vocab = sorted(set(notesdata))\n",
        "char2idx = {c:i for i,c in enumerate(vocab)}\n",
        "idx2char = {i:c for c,i in char2idx.items()}\n",
        "\n",
        "seq_length = 100\n",
        "n_vocab = len(vocab)\n",
        "\n",
        "def traindata(notes, seq_length):\n",
        "    input_data = []\n",
        "    output_data = []\n",
        "\n",
        "    for i in range(len(notes) - seq_length):\n",
        "        seq_in = notes[i : i+seq_length] # contains 100 values\n",
        "        seq_out = notes[i + seq_length]\n",
        "\n",
        "        input_data.append([char2idx[c] for c in seq_in])\n",
        "        output_data.append(char2idx[seq_out])\n",
        "\n",
        "    return input_data, output_data"
      ]
    },
    {
      "cell_type": "code",
      "execution_count": null,
      "metadata": {
        "colab": {
          "base_uri": "https://localhost:8080/"
        },
        "id": "dvSeBqpTrUzn",
        "outputId": "c48cdfab-ec2d-431c-8b43-0834e8ab71bd"
      },
      "outputs": [
        {
          "output_type": "stream",
          "name": "stdout",
          "text": [
            "length of input data sequence : 60664\n",
            "length of reshaped input data : (60664, 100, 1)\n"
          ]
        }
      ],
      "source": [
        "input_data, output_data = traindata(notesdata,seq_length=100 )\n",
        "\n",
        "in_data_len = len(input_data)\n",
        "print(f\"length of input data sequence : {in_data_len}\")\n",
        "\n",
        "input_data = np.reshape(input_data, (in_data_len, seq_length, 1))\n",
        "print(f\"length of reshaped input data : {input_data.shape}\")\n",
        "\n",
        "normalised_input = input_data/float(n_vocab)"
      ]
    },
    {
      "cell_type": "code",
      "execution_count": null,
      "metadata": {
        "colab": {
          "base_uri": "https://localhost:8080/"
        },
        "id": "aZgvdmkPrUzo",
        "outputId": "0b1f6a08-4057-45b9-e62e-4b21f00d3c32"
      },
      "outputs": [
        {
          "output_type": "stream",
          "name": "stdout",
          "text": [
            "Output data lenght : (60664, 398)\n"
          ]
        }
      ],
      "source": [
        "network_output = np_utils.to_categorical(output_data)\n",
        "print(f\"Output data lenght : {network_output.shape}\")"
      ]
    },
    {
      "cell_type": "code",
      "execution_count": null,
      "metadata": {
        "colab": {
          "base_uri": "https://localhost:8080/"
        },
        "id": "A6X2FRgZrUzp",
        "outputId": "0ac176c8-bb65-48c0-edfa-51ec631abe27"
      },
      "outputs": [
        {
          "output_type": "stream",
          "name": "stdout",
          "text": [
            "Model: \"sequential\"\n",
            "_________________________________________________________________\n",
            " Layer (type)                Output Shape              Param #   \n",
            "=================================================================\n",
            " lstm (LSTM)                 (None, 100, 512)          1052672   \n",
            "                                                                 \n",
            " dropout (Dropout)           (None, 100, 512)          0         \n",
            "                                                                 \n",
            " lstm_1 (LSTM)               (None, 100, 512)          2099200   \n",
            "                                                                 \n",
            " dropout_1 (Dropout)         (None, 100, 512)          0         \n",
            "                                                                 \n",
            " lstm_2 (LSTM)               (None, 100, 512)          2099200   \n",
            "                                                                 \n",
            " dropout_2 (Dropout)         (None, 100, 512)          0         \n",
            "                                                                 \n",
            " lstm_3 (LSTM)               (None, 512)               2099200   \n",
            "                                                                 \n",
            " dense (Dense)               (None, 256)               131328    \n",
            "                                                                 \n",
            " dropout_3 (Dropout)         (None, 256)               0         \n",
            "                                                                 \n",
            " dense_1 (Dense)             (None, 398)               102286    \n",
            "                                                                 \n",
            "=================================================================\n",
            "Total params: 7,583,886\n",
            "Trainable params: 7,583,886\n",
            "Non-trainable params: 0\n",
            "_________________________________________________________________\n"
          ]
        }
      ],
      "source": [
        "model = Sequential()\n",
        "model.add( LSTM(units=512,\n",
        "               input_shape = (normalised_input.shape[1], normalised_input.shape[2]),\n",
        "               return_sequences = True) )\n",
        "model.add( Dropout(0.3) )\n",
        "model.add( LSTM(512, return_sequences=True) )\n",
        "model.add( Dropout(0.3) )\n",
        "model.add( LSTM(512, return_sequences=True) )\n",
        "model.add( Dropout(0.3) )\n",
        "model.add( LSTM(512) )\n",
        "model.add( Dense(256) )\n",
        "model.add( Dropout(0.3) )\n",
        "model.add( Dense(n_vocab, activation=\"softmax\") )\n",
        "\n",
        "model.compile(loss=\"categorical_crossentropy\", optimizer=\"adam\")\n",
        "model.summary()"
      ]
    },
    {
      "cell_type": "code",
      "execution_count": null,
      "metadata": {
        "colab": {
          "base_uri": "https://localhost:8080/"
        },
        "id": "3Xo-R2aErUzq",
        "outputId": "cb220afa-7c8a-4192-dd67-0d50789a2fa9"
      },
      "outputs": [
        {
          "output_type": "stream",
          "name": "stdout",
          "text": [
            "Epoch 1/5\n",
            "948/948 [==============================] - 111s 113ms/step - loss: 4.7613\n",
            "Epoch 2/5\n",
            "948/948 [==============================] - 106s 112ms/step - loss: 4.7616\n",
            "Epoch 3/5\n",
            "948/948 [==============================] - 107s 113ms/step - loss: 4.7609\n",
            "Epoch 4/5\n",
            "948/948 [==============================] - 106s 112ms/step - loss: 4.7612\n",
            "Epoch 5/5\n",
            "948/948 [==============================] - 107s 113ms/step - loss: 4.7604\n"
          ]
        }
      ],
      "source": [
        "checkpoint = ModelCheckpoint(\"/content/drive/MyDrive/colab_notebook/Deep_learning/models/music_modelv2.hdf5\", monitor='loss', verbose=0, save_best_only=True, mode='min')\n",
        "\n",
        "model_his = model.fit(normalised_input, network_output, epochs=5, batch_size=64, callbacks=[checkpoint])"
      ]
    },
    {
      "cell_type": "code",
      "source": [
        "model = load_model(\"/content/drive/MyDrive/colab_notebook/Deep_learning/models/music_modelv2.hdf5\")"
      ],
      "metadata": {
        "id": "t6Bc9Pzhtaaj"
      },
      "execution_count": null,
      "outputs": []
    },
    {
      "cell_type": "markdown",
      "source": [
        "Predictions"
      ],
      "metadata": {
        "id": "_Gc80yXtxqWF"
      }
    },
    {
      "cell_type": "code",
      "source": [
        "def genelement():\n",
        "\n",
        "  prediction_output = []\n",
        "  start = np.random.randint(len(input_data) - 1)\n",
        "  pattern = input_data[start]\n",
        "\n",
        "  for note_index in range(200):\n",
        "\n",
        "    prediction_input = np.reshape(pattern, (1, len(pattern), 1)) # convert into numpy desired shape\n",
        "    prediction_input = prediction_input/float(n_vocab) # normalise\n",
        "\n",
        "    prediction =  model.predict(prediction_input, verbose=0)\n",
        "\n",
        "    idx = np.argmax(prediction)\n",
        "    result = idx2char[idx]\n",
        "    prediction_output.append(result)\n",
        "\n",
        "    pattern = input_data[idx]\n",
        "\n",
        "  return prediction_output"
      ],
      "metadata": {
        "id": "LD5hX283xsrJ"
      },
      "execution_count": null,
      "outputs": []
    },
    {
      "cell_type": "code",
      "source": [
        "pred_out = genelement()\n",
        "print(pred_out)"
      ],
      "metadata": {
        "colab": {
          "base_uri": "https://localhost:8080/"
        },
        "id": "PzAG0dNAy-Tm",
        "outputId": "a84b5a06-dde2-4cc3-a05a-33e1fe0a8f4e"
      },
      "execution_count": null,
      "outputs": [
        {
          "output_type": "stream",
          "name": "stdout",
          "text": [
            "['F#4', 'B2', 'G5', '6+8', '4+10', 'B-2', 'F4', 'B2', 'G5', '6+8', '4+10', 'B-2', 'F4', 'B2', 'G5', '6+8', '4+10', 'B-2', 'F4', 'B2', 'G5', '6+8', '4+10', 'B-2', 'F4', 'B2', 'G5', '6+8', '4+10', 'B-2', 'F4', 'B2', 'G5', '6+8', '4+10', 'B-2', 'F4', 'B2', 'G5', '6+8', '4+10', 'B-2', 'F4', 'B2', 'G5', '6+8', '4+10', 'B-2', 'F4', 'B2', 'G5', '6+8', '4+10', 'B-2', 'F4', 'B2', 'G5', '6+8', '4+10', 'B-2', 'F4', 'B2', 'G5', '6+8', '4+10', 'B-2', 'F4', 'B2', 'G5', '6+8', '4+10', 'B-2', 'F4', 'B2', 'G5', '6+8', '4+10', 'B-2', 'F4', 'B2', 'G5', '6+8', '4+10', 'B-2', 'F4', 'B2', 'G5', '6+8', '4+10', 'B-2', 'F4', 'B2', 'G5', '6+8', '4+10', 'B-2', 'F4', 'B2', 'G5', '6+8', '4+10', 'B-2', 'F4', 'B2', 'G5', '6+8', '4+10', 'B-2', 'F4', 'B2', 'G5', '6+8', '4+10', 'B-2', 'F4', 'B2', 'G5', '6+8', '4+10', 'B-2', 'F4', 'B2', 'G5', '6+8', '4+10', 'B-2', 'F4', 'B2', 'G5', '6+8', '4+10', 'B-2', 'F4', 'B2', 'G5', '6+8', '4+10', 'B-2', 'F4', 'B2', 'G5', '6+8', '4+10', 'B-2', 'F4', 'B2', 'G5', '6+8', '4+10', 'B-2', 'F4', 'B2', 'G5', '6+8', '4+10', 'B-2', 'F4', 'B2', 'G5', '6+8', '4+10', 'B-2', 'F4', 'B2', 'G5', '6+8', '4+10', 'B-2', 'F4', 'B2', 'G5', '6+8', '4+10', 'B-2', 'F4', 'B2', 'G5', '6+8', '4+10', 'B-2', 'F4', 'B2', 'G5', '6+8', '4+10', 'B-2', 'F4', 'B2', 'G5', '6+8', '4+10', 'B-2', 'F4', 'B2', 'G5', '6+8', '4+10', 'B-2', 'F4', 'B2']\n"
          ]
        }
      ]
    },
    {
      "cell_type": "code",
      "source": [
        "def pred_to_notes(prediction_output):\n",
        "\n",
        "  offset = 0 # Time\n",
        "  output_notes = []\n",
        "\n",
        "  for pattern in prediction_output:\n",
        "\n",
        "      # if the pattern is a chord\n",
        "      if ('+' in pattern) or pattern.isdigit():\n",
        "          notes_in_chord = pattern.split('+')\n",
        "          temp_notes = []\n",
        "          for current_note in notes_in_chord:\n",
        "              new_note = note.Note(int(current_note))  # create Note object for each note in the chord\n",
        "              new_note.storedInstrument = instrument.Piano()\n",
        "              temp_notes.append(new_note)\n",
        "\n",
        "\n",
        "          new_chord = chord.Chord(temp_notes) # creates the chord() from the list of notes\n",
        "          new_chord.offset = offset\n",
        "          output_notes.append(new_chord)\n",
        "\n",
        "      else:\n",
        "              # if the pattern is a note\n",
        "          new_note = note.Note(pattern)\n",
        "          new_note.offset = offset\n",
        "          new_note.storedInstrument = instrument.Piano()\n",
        "          output_notes.append(new_note)\n",
        "\n",
        "      offset += 0.5\n",
        "\n",
        "  return output_notes"
      ],
      "metadata": {
        "id": "6U7Y0X5JfhiW"
      },
      "execution_count": null,
      "outputs": []
    },
    {
      "cell_type": "code",
      "source": [
        "midi_stream = stream.Stream(pred_to_notes(pred_out))\n",
        "midi_stream.write('midi', fp = \"test_output.mid\")"
      ],
      "metadata": {
        "colab": {
          "base_uri": "https://localhost:8080/",
          "height": 35
        },
        "id": "oIWLH5F7rFCb",
        "outputId": "362e465f-3c00-4d02-e56f-9b2ef9f8b31a"
      },
      "execution_count": null,
      "outputs": [
        {
          "output_type": "execute_result",
          "data": {
            "text/plain": [
              "'test_output.mid'"
            ],
            "application/vnd.google.colaboratory.intrinsic+json": {
              "type": "string"
            }
          },
          "metadata": {},
          "execution_count": 19
        }
      ]
    },
    {
      "cell_type": "code",
      "source": [
        "midi_stream.show('midi')"
      ],
      "metadata": {
        "colab": {
          "base_uri": "https://localhost:8080/",
          "height": 17
        },
        "id": "BOqB0y7-rEQA",
        "outputId": "f6666db7-eb8a-47f3-d6bb-a3319e6e87c6"
      },
      "execution_count": null,
      "outputs": [
        {
          "output_type": "display_data",
          "data": {
            "text/plain": [
              "<IPython.core.display.HTML object>"
            ],
            "text/html": [
              "\n",
              "                <div id=\"midiPlayerDiv2824\"></div>\n",
              "                <link rel=\"stylesheet\" href=\"//cuthbertLab.github.io/music21j/css/m21.css\"\n",
              "                    type=\"text/css\" />\n",
              "                \n",
              "                    <script src=\"//cuthbertLab.github.io/music21j/ext/require/require.js\"\n",
              "                    ></script>\n",
              "                \n",
              "                <script>\n",
              "                require.config({\n",
              "                    paths: {'music21': '//cuthbertLab.github.io/music21j/src/music21'}\n",
              "                });\n",
              "                require(['music21'], function() {\n",
              "                               mp = new music21.miditools.MidiPlayer();\n",
              "                               mp.addPlayer(\"#midiPlayerDiv2824\");\n",
              "                               mp.base64Load(\"data:audio/midi;base64,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\");\n",
              "                        });\n",
              "                </script>"
            ]
          },
          "metadata": {}
        }
      ]
    }
  ],
  "metadata": {
    "kernelspec": {
      "display_name": "Python 3",
      "name": "python3"
    },
    "language_info": {
      "codemirror_mode": {
        "name": "ipython",
        "version": 3
      },
      "file_extension": ".py",
      "mimetype": "text/x-python",
      "name": "python",
      "nbconvert_exporter": "python",
      "pygments_lexer": "ipython3",
      "version": "3.9.5"
    },
    "orig_nbformat": 4,
    "colab": {
      "provenance": [],
      "gpuType": "T4"
    },
    "accelerator": "GPU"
  },
  "nbformat": 4,
  "nbformat_minor": 0
}